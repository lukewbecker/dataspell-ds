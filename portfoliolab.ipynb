{
 "cells": [
  {
   "cell_type": "code",
   "execution_count": 1,
   "id": "initial_id",
   "metadata": {
    "collapsed": true,
    "ExecuteTime": {
     "end_time": "2023-07-30T18:56:29.489475600Z",
     "start_time": "2023-07-30T18:56:28.405528800Z"
    }
   },
   "outputs": [],
   "source": [
    "# importing our required libraries\n",
    "import pandas as pd\n",
    "import numpy as np\n",
    "import matplotlib.pyplot as plt"
   ]
  },
  {
   "cell_type": "code",
   "execution_count": 8,
   "outputs": [],
   "source": [
    "from env import portfolio_lab_api"
   ],
   "metadata": {
    "collapsed": false,
    "ExecuteTime": {
     "end_time": "2023-07-30T19:00:13.429283800Z",
     "start_time": "2023-07-30T19:00:13.412280200Z"
    }
   },
   "id": "1433e27e4142adc6"
  },
  {
   "cell_type": "code",
   "execution_count": 12,
   "outputs": [],
   "source": [
    "api_key = portfolio_lab_api"
   ],
   "metadata": {
    "collapsed": false,
    "ExecuteTime": {
     "end_time": "2023-07-30T19:00:42.977662200Z",
     "start_time": "2023-07-30T19:00:42.969683900Z"
    }
   },
   "id": "6f9ff46f50034fc"
  },
  {
   "cell_type": "code",
   "execution_count": 14,
   "outputs": [],
   "source": [
    "import os\n",
    "\n",
    "os.environ[\"PORTLAB_API_KEY\"] = api_key"
   ],
   "metadata": {
    "collapsed": false,
    "ExecuteTime": {
     "end_time": "2023-07-30T19:03:09.491552400Z",
     "start_time": "2023-07-30T19:03:09.476495500Z"
    }
   },
   "id": "f64645c5935cf7a3"
  },
  {
   "cell_type": "code",
   "execution_count": 15,
   "outputs": [],
   "source": [
    "from portfoliolab.modern_portfolio_theory import MeanVarianceOptimisation"
   ],
   "metadata": {
    "collapsed": false,
    "ExecuteTime": {
     "end_time": "2023-07-30T19:03:11.933207Z",
     "start_time": "2023-07-30T19:03:10.358719400Z"
    }
   },
   "id": "fcd3e57a59778d53"
  },
  {
   "cell_type": "code",
   "execution_count": null,
   "outputs": [],
   "source": [],
   "metadata": {
    "collapsed": false
   },
   "id": "39f6834f1f479b33"
  }
 ],
 "metadata": {
  "kernelspec": {
   "display_name": "Python 3",
   "language": "python",
   "name": "python3"
  },
  "language_info": {
   "codemirror_mode": {
    "name": "ipython",
    "version": 2
   },
   "file_extension": ".py",
   "mimetype": "text/x-python",
   "name": "python",
   "nbconvert_exporter": "python",
   "pygments_lexer": "ipython2",
   "version": "2.7.6"
  }
 },
 "nbformat": 4,
 "nbformat_minor": 5
}
