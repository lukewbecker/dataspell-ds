{
 "cells": [
  {
   "cell_type": "code",
   "execution_count": 1,
   "id": "initial_id",
   "metadata": {
    "collapsed": true,
    "ExecuteTime": {
     "end_time": "2023-07-31T12:50:21.786422400Z",
     "start_time": "2023-07-31T12:50:19.577900600Z"
    }
   },
   "outputs": [],
   "source": [
    "# importing our required libraries\n",
    "import pandas as pd\n",
    "import numpy as np\n",
    "import matplotlib.pyplot as plt"
   ]
  },
  {
   "cell_type": "code",
   "execution_count": 2,
   "outputs": [],
   "source": [
    "from env import portfolio_lab_api"
   ],
   "metadata": {
    "collapsed": false,
    "ExecuteTime": {
     "end_time": "2023-07-31T12:50:21.798904800Z",
     "start_time": "2023-07-31T12:50:21.787419800Z"
    }
   },
   "id": "1433e27e4142adc6"
  },
  {
   "cell_type": "code",
   "execution_count": 3,
   "outputs": [],
   "source": [
    "api_key = portfolio_lab_api"
   ],
   "metadata": {
    "collapsed": false,
    "ExecuteTime": {
     "end_time": "2023-07-31T12:50:21.824836300Z",
     "start_time": "2023-07-31T12:50:21.800902100Z"
    }
   },
   "id": "6f9ff46f50034fc"
  },
  {
   "cell_type": "code",
   "execution_count": 4,
   "outputs": [],
   "source": [
    "import os\n",
    "\n",
    "os.environ[\"PORTLAB_API_KEY\"] = api_key"
   ],
   "metadata": {
    "collapsed": false,
    "ExecuteTime": {
     "end_time": "2023-07-31T12:50:21.848771800Z",
     "start_time": "2023-07-31T12:50:21.817854900Z"
    }
   },
   "id": "f64645c5935cf7a3"
  },
  {
   "cell_type": "code",
   "execution_count": 5,
   "outputs": [],
   "source": [
    "from portfoliolab.modern_portfolio_theory import MeanVarianceOptimisation"
   ],
   "metadata": {
    "collapsed": false,
    "ExecuteTime": {
     "end_time": "2023-07-31T12:50:25.447277200Z",
     "start_time": "2023-07-31T12:50:21.833812400Z"
    }
   },
   "id": "fcd3e57a59778d53"
  },
  {
   "cell_type": "code",
   "execution_count": 7,
   "outputs": [
    {
     "data": {
      "text/plain": "sys.version_info(major=3, minor=8, micro=17, releaselevel='final', serial=0)"
     },
     "execution_count": 7,
     "metadata": {},
     "output_type": "execute_result"
    }
   ],
   "source": [
    "import sys\n",
    "sys.version_info"
   ],
   "metadata": {
    "collapsed": false,
    "ExecuteTime": {
     "end_time": "2023-07-31T12:51:39.308566500Z",
     "start_time": "2023-07-31T12:51:39.245165900Z"
    }
   },
   "id": "39f6834f1f479b33"
  },
  {
   "cell_type": "code",
   "execution_count": null,
   "outputs": [],
   "source": [],
   "metadata": {
    "collapsed": false
   },
   "id": "34703985deb44b6c"
  }
 ],
 "metadata": {
  "kernelspec": {
   "display_name": "Python 3",
   "language": "python",
   "name": "python3"
  },
  "language_info": {
   "codemirror_mode": {
    "name": "ipython",
    "version": 2
   },
   "file_extension": ".py",
   "mimetype": "text/x-python",
   "name": "python",
   "nbconvert_exporter": "python",
   "pygments_lexer": "ipython2",
   "version": "2.7.6"
  }
 },
 "nbformat": 4,
 "nbformat_minor": 5
}
