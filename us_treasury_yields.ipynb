{
 "cells": [
  {
   "cell_type": "markdown",
   "source": [
    "## US Treasury Yields\n",
    "Purpose of code: Grab Treasury Note, Bill and Bond yield data from the US Treasury's website located here: https://home.treasury.gov/resource-center/data-chart-center/interest-rates/TextView?type=daily_treasury_yield_curve&field_tdr_date_value_month=202304"
   ],
   "metadata": {
    "collapsed": false
   }
  },
  {
   "cell_type": "code",
   "execution_count": 2,
   "outputs": [],
   "source": [
    "import pandas as pd\n",
    "import numpy as np\n",
    "import plotly.graph_objects as go"
   ],
   "metadata": {
    "collapsed": false,
    "ExecuteTime": {
     "end_time": "2023-07-30T19:20:21.467421800Z",
     "start_time": "2023-07-30T19:20:21.431420500Z"
    }
   }
  },
  {
   "cell_type": "code",
   "execution_count": 4,
   "outputs": [
    {
     "data": {
      "text/plain": "   type                            title  \\\n0  text  DailyTreasuryYieldCurveRateData   \n1  None                             None   \n2  None                             None   \n3  None  DailyTreasuryYieldCurveRateData   \n4  None                             None   \n5  None                             None   \n6  None                             None   \n7  None                             None   \n8  None                             None   \n\n                                                  id               updated  \\\n0                                               None                  None   \n1  https://home.treasury.gov/resource-center/data...                  None   \n2                                               None  2023-04-07T12:38:05Z   \n3                                               None                  None   \n4                                               None  2023-04-07T12:38:05Z   \n5                                               None  2023-04-07T12:38:05Z   \n6                                               None  2023-04-07T12:38:05Z   \n7                                               None  2023-04-07T12:38:05Z   \n8                                               None  2023-04-07T12:38:05Z   \n\n    rel                             href  author  category  content  \n0  None                             None     NaN       NaN      NaN  \n1  None                             None     NaN       NaN      NaN  \n2  None                             None     NaN       NaN      NaN  \n3  self  DailyTreasuryYieldCurveRateData     NaN       NaN      NaN  \n4  None                             None     NaN       NaN      NaN  \n5  None                             None     NaN       NaN      NaN  \n6  None                             None     NaN       NaN      NaN  \n7  None                             None     NaN       NaN      NaN  \n8  None                             None     NaN       NaN      NaN  ",
      "text/html": "<div>\n<style scoped>\n    .dataframe tbody tr th:only-of-type {\n        vertical-align: middle;\n    }\n\n    .dataframe tbody tr th {\n        vertical-align: top;\n    }\n\n    .dataframe thead th {\n        text-align: right;\n    }\n</style>\n<table border=\"1\" class=\"dataframe\">\n  <thead>\n    <tr style=\"text-align: right;\">\n      <th></th>\n      <th>type</th>\n      <th>title</th>\n      <th>id</th>\n      <th>updated</th>\n      <th>rel</th>\n      <th>href</th>\n      <th>author</th>\n      <th>category</th>\n      <th>content</th>\n    </tr>\n  </thead>\n  <tbody>\n    <tr>\n      <th>0</th>\n      <td>text</td>\n      <td>DailyTreasuryYieldCurveRateData</td>\n      <td>None</td>\n      <td>None</td>\n      <td>None</td>\n      <td>None</td>\n      <td>NaN</td>\n      <td>NaN</td>\n      <td>NaN</td>\n    </tr>\n    <tr>\n      <th>1</th>\n      <td>None</td>\n      <td>None</td>\n      <td>https://home.treasury.gov/resource-center/data...</td>\n      <td>None</td>\n      <td>None</td>\n      <td>None</td>\n      <td>NaN</td>\n      <td>NaN</td>\n      <td>NaN</td>\n    </tr>\n    <tr>\n      <th>2</th>\n      <td>None</td>\n      <td>None</td>\n      <td>None</td>\n      <td>2023-04-07T12:38:05Z</td>\n      <td>None</td>\n      <td>None</td>\n      <td>NaN</td>\n      <td>NaN</td>\n      <td>NaN</td>\n    </tr>\n    <tr>\n      <th>3</th>\n      <td>None</td>\n      <td>DailyTreasuryYieldCurveRateData</td>\n      <td>None</td>\n      <td>None</td>\n      <td>self</td>\n      <td>DailyTreasuryYieldCurveRateData</td>\n      <td>NaN</td>\n      <td>NaN</td>\n      <td>NaN</td>\n    </tr>\n    <tr>\n      <th>4</th>\n      <td>None</td>\n      <td>None</td>\n      <td>None</td>\n      <td>2023-04-07T12:38:05Z</td>\n      <td>None</td>\n      <td>None</td>\n      <td>NaN</td>\n      <td>NaN</td>\n      <td>NaN</td>\n    </tr>\n    <tr>\n      <th>5</th>\n      <td>None</td>\n      <td>None</td>\n      <td>None</td>\n      <td>2023-04-07T12:38:05Z</td>\n      <td>None</td>\n      <td>None</td>\n      <td>NaN</td>\n      <td>NaN</td>\n      <td>NaN</td>\n    </tr>\n    <tr>\n      <th>6</th>\n      <td>None</td>\n      <td>None</td>\n      <td>None</td>\n      <td>2023-04-07T12:38:05Z</td>\n      <td>None</td>\n      <td>None</td>\n      <td>NaN</td>\n      <td>NaN</td>\n      <td>NaN</td>\n    </tr>\n    <tr>\n      <th>7</th>\n      <td>None</td>\n      <td>None</td>\n      <td>None</td>\n      <td>2023-04-07T12:38:05Z</td>\n      <td>None</td>\n      <td>None</td>\n      <td>NaN</td>\n      <td>NaN</td>\n      <td>NaN</td>\n    </tr>\n    <tr>\n      <th>8</th>\n      <td>None</td>\n      <td>None</td>\n      <td>None</td>\n      <td>2023-04-07T12:38:05Z</td>\n      <td>None</td>\n      <td>None</td>\n      <td>NaN</td>\n      <td>NaN</td>\n      <td>NaN</td>\n    </tr>\n  </tbody>\n</table>\n</div>"
     },
     "execution_count": 4,
     "metadata": {},
     "output_type": "execute_result"
    }
   ],
   "source": [
    "# Testing first using the csv option from the website.\n",
    "\n",
    "pd.read_xml('https://home.treasury.gov/resource-center/data-chart-center/interest-rates/pages/xml?data=daily_treasury_yield_curve&field_tdr_date_value_month=202304')"
   ],
   "metadata": {
    "collapsed": false,
    "ExecuteTime": {
     "start_time": "2023-04-07T12:40:02.013702Z",
     "end_time": "2023-04-07T12:40:10.268578Z"
    }
   }
  },
  {
   "cell_type": "code",
   "execution_count": 5,
   "outputs": [
    {
     "data": {
      "text/plain": "         Date  1 Mo  2 Mo  3 Mo  4 Mo  6 Mo  1 Yr  2 Yr  3 Yr  5 Yr  7 Yr  \\\n0  04/07/2023  4.56  4.90  4.95  5.07  4.95  4.61  3.97  3.72  3.49  3.45   \n1  04/06/2023  4.57  4.85  4.91  4.98  4.93  4.51  3.82  3.59  3.37  3.34   \n2  04/05/2023  4.62  4.77  4.86  4.90  4.82  4.43  3.79  3.55  3.36  3.34   \n3  04/04/2023  4.66  4.80  4.88  4.90  4.80  4.50  3.84  3.60  3.39  3.38   \n4  04/03/2023  4.70  4.79  4.90  4.98  4.88  4.60  3.97  3.73  3.52  3.48   \n\n   10 Yr  20 Yr  30 Yr  \n0   3.39   3.73   3.61  \n1   3.30   3.66   3.54  \n2   3.30   3.67   3.56  \n3   3.35   3.72   3.60  \n4   3.43   3.78   3.64  ",
      "text/html": "<div>\n<style scoped>\n    .dataframe tbody tr th:only-of-type {\n        vertical-align: middle;\n    }\n\n    .dataframe tbody tr th {\n        vertical-align: top;\n    }\n\n    .dataframe thead th {\n        text-align: right;\n    }\n</style>\n<table border=\"1\" class=\"dataframe\">\n  <thead>\n    <tr style=\"text-align: right;\">\n      <th></th>\n      <th>Date</th>\n      <th>1 Mo</th>\n      <th>2 Mo</th>\n      <th>3 Mo</th>\n      <th>4 Mo</th>\n      <th>6 Mo</th>\n      <th>1 Yr</th>\n      <th>2 Yr</th>\n      <th>3 Yr</th>\n      <th>5 Yr</th>\n      <th>7 Yr</th>\n      <th>10 Yr</th>\n      <th>20 Yr</th>\n      <th>30 Yr</th>\n    </tr>\n  </thead>\n  <tbody>\n    <tr>\n      <th>0</th>\n      <td>04/07/2023</td>\n      <td>4.56</td>\n      <td>4.90</td>\n      <td>4.95</td>\n      <td>5.07</td>\n      <td>4.95</td>\n      <td>4.61</td>\n      <td>3.97</td>\n      <td>3.72</td>\n      <td>3.49</td>\n      <td>3.45</td>\n      <td>3.39</td>\n      <td>3.73</td>\n      <td>3.61</td>\n    </tr>\n    <tr>\n      <th>1</th>\n      <td>04/06/2023</td>\n      <td>4.57</td>\n      <td>4.85</td>\n      <td>4.91</td>\n      <td>4.98</td>\n      <td>4.93</td>\n      <td>4.51</td>\n      <td>3.82</td>\n      <td>3.59</td>\n      <td>3.37</td>\n      <td>3.34</td>\n      <td>3.30</td>\n      <td>3.66</td>\n      <td>3.54</td>\n    </tr>\n    <tr>\n      <th>2</th>\n      <td>04/05/2023</td>\n      <td>4.62</td>\n      <td>4.77</td>\n      <td>4.86</td>\n      <td>4.90</td>\n      <td>4.82</td>\n      <td>4.43</td>\n      <td>3.79</td>\n      <td>3.55</td>\n      <td>3.36</td>\n      <td>3.34</td>\n      <td>3.30</td>\n      <td>3.67</td>\n      <td>3.56</td>\n    </tr>\n    <tr>\n      <th>3</th>\n      <td>04/04/2023</td>\n      <td>4.66</td>\n      <td>4.80</td>\n      <td>4.88</td>\n      <td>4.90</td>\n      <td>4.80</td>\n      <td>4.50</td>\n      <td>3.84</td>\n      <td>3.60</td>\n      <td>3.39</td>\n      <td>3.38</td>\n      <td>3.35</td>\n      <td>3.72</td>\n      <td>3.60</td>\n    </tr>\n    <tr>\n      <th>4</th>\n      <td>04/03/2023</td>\n      <td>4.70</td>\n      <td>4.79</td>\n      <td>4.90</td>\n      <td>4.98</td>\n      <td>4.88</td>\n      <td>4.60</td>\n      <td>3.97</td>\n      <td>3.73</td>\n      <td>3.52</td>\n      <td>3.48</td>\n      <td>3.43</td>\n      <td>3.78</td>\n      <td>3.64</td>\n    </tr>\n  </tbody>\n</table>\n</div>"
     },
     "execution_count": 5,
     "metadata": {},
     "output_type": "execute_result"
    }
   ],
   "source": [
    "pd.read_csv('https://home.treasury.gov/resource-center/data-chart-center/interest-rates/daily-treasury-rates.csv/all/202304?type=daily_treasury_yield_curve&field_tdr_date_value_month=202304&page&_format=csv')"
   ],
   "metadata": {
    "collapsed": false,
    "ExecuteTime": {
     "start_time": "2023-04-07T12:40:53.270657Z",
     "end_time": "2023-04-07T12:41:03.867908Z"
    }
   }
  },
  {
   "cell_type": "code",
   "execution_count": null,
   "outputs": [],
   "source": [],
   "metadata": {
    "collapsed": false
   }
  }
 ],
 "metadata": {
  "kernelspec": {
   "display_name": "Python 3",
   "language": "python",
   "name": "python3"
  },
  "language_info": {
   "codemirror_mode": {
    "name": "ipython",
    "version": 2
   },
   "file_extension": ".py",
   "mimetype": "text/x-python",
   "name": "python",
   "nbconvert_exporter": "python",
   "pygments_lexer": "ipython2",
   "version": "2.7.6"
  }
 },
 "nbformat": 4,
 "nbformat_minor": 0
}
